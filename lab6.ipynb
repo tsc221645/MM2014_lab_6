{
 "cells": [
  {
   "cell_type": "markdown",
   "id": "358a2dd3",
   "metadata": {},
   "source": [
    "# Laboratorio 6 - Distribuciones Continuas"
   ]
  },
  {
   "cell_type": "markdown",
   "id": "b38c7e9e",
   "metadata": {},
   "source": [
    "Integrantes: Ana Laura Tschen 221645, "
   ]
  },
  {
   "cell_type": "markdown",
   "id": "ac5be23b",
   "metadata": {},
   "source": [
    "### Problema 2"
   ]
  },
  {
   "cell_type": "markdown",
   "id": "00230f76",
   "metadata": {},
   "source": [
    "Suponga que la descarga de archivos de tama;o grande toma en promedio 12 minutos con una desviación estándar de 2 minutos. Si el tiempo de descarga sigue una distribución Gamma. a) ¿Cuáles son los parámetros de $\\alpha$ y $\\beta$? b) ¿Cuál es la probabilidad de que un archivo de tamaño grande dure más de una hora?"
   ]
  },
  {
   "cell_type": "code",
   "execution_count": null,
   "id": "9877c649",
   "metadata": {},
   "outputs": [],
   "source": []
  },
  {
   "cell_type": "code",
   "execution_count": null,
   "id": "fe70d63c",
   "metadata": {},
   "outputs": [],
   "source": []
  },
  {
   "cell_type": "markdown",
   "id": "691fc14b",
   "metadata": {},
   "source": [
    "### Problema 4"
   ]
  },
  {
   "cell_type": "markdown",
   "id": "a7cd27a2",
   "metadata": {},
   "source": [
    "Un bus llega a una parada específica en intervalos de 15 minutos, comenzando a las 7:00 am. Es decir llegando a las 7, 7:15, 7:30, 7:45 y así sucesivamente. Si un pasajero llega a la parada en un momento que es uniformemente distribuido entre 7 y 7:30. Encuentre la probabilidad que el espere: a) menos de 5 minutos por el bus. b) más de 10 minutos por bus."
   ]
  },
  {
   "cell_type": "code",
   "execution_count": null,
   "id": "ba962381",
   "metadata": {},
   "outputs": [],
   "source": []
  },
  {
   "cell_type": "code",
   "execution_count": null,
   "id": "f6fa3080",
   "metadata": {},
   "outputs": [],
   "source": []
  },
  {
   "cell_type": "markdown",
   "id": "bda26294",
   "metadata": {},
   "source": [
    "### Problema 5"
   ]
  },
  {
   "cell_type": "markdown",
   "id": "6171325e",
   "metadata": {},
   "source": [
    "Sea $X$ La cantidad de radiación que puede absorver un individuo antes de que sobrevenga su muerte. Suponga que $X$ es normal, con media de 500 roetgens y desviación estándar de 150 roetgens. ¿Por arriba de cuál dosis apenas sobrevive el 5% de los individuos expuestos?"
   ]
  },
  {
   "cell_type": "code",
   "execution_count": null,
   "id": "dd32db54",
   "metadata": {},
   "outputs": [],
   "source": []
  },
  {
   "cell_type": "code",
   "execution_count": null,
   "id": "503a243d",
   "metadata": {},
   "outputs": [],
   "source": []
  }
 ],
 "metadata": {
  "kernelspec": {
   "display_name": "Python 3",
   "language": "python",
   "name": "python3"
  },
  "language_info": {
   "name": "python",
   "version": "3.13.2"
  }
 },
 "nbformat": 4,
 "nbformat_minor": 5
}
