{
 "cells": [
  {
   "cell_type": "markdown",
   "id": "358a2dd3",
   "metadata": {},
   "source": [
    "# Laboratorio 6 - Distribuciones Continuas"
   ]
  },
  {
   "cell_type": "markdown",
   "id": "b38c7e9e",
   "metadata": {},
   "source": [
    "Integrantes: Ana Laura Tschen 221645, Abby Donis 22440, Melisa Mendizabal 23778, "
   ]
  },
  {
   "cell_type": "code",
   "execution_count": 2,
   "id": "8f91cafa",
   "metadata": {},
   "outputs": [],
   "source": [
    "import numpy as np\n",
    "import simpy\n",
    "import random\n",
    "import matplotlib.pyplot as plt\n",
    "import scipy.stats as stats"
   ]
  },
  {
   "cell_type": "markdown",
   "id": "ac5be23b",
   "metadata": {},
   "source": [
    "### Problema 2"
   ]
  },
  {
   "cell_type": "markdown",
   "id": "00230f76",
   "metadata": {},
   "source": [
    "Suponga que la descarga de archivos de tamaño grande toma en promedio 12 minutos con una desviación estándar de 2 minutos. Si el tiempo de descarga sigue una distribución Gamma. a) ¿Cuáles son los parámetros de $\\alpha$ y $\\beta$? b) ¿Cuál es la probabilidad de que un archivo de tamaño grande dure más de una hora?"
   ]
  },
  {
   "cell_type": "code",
   "execution_count": 5,
   "id": "012cfa10-2016-4110-b3bb-c489021578b5",
   "metadata": {},
   "outputs": [
    {
     "name": "stdout",
     "output_type": "stream",
     "text": [
      "β:  0.3333333333333333\n",
      "α:  36.0\n"
     ]
    }
   ],
   "source": [
    "media_tiempo = 12 #minutos\n",
    "desv_est = 2\n",
    "# a) alpha y beta || media = a * b  desviacion = √a * b\n",
    "beta = (desv_est**2)/media_tiempo\n",
    "alpha = media_tiempo/beta\n",
    "print(\"β: \", beta)\n",
    "print(\"α: \", alpha)\n"
   ]
  },
  {
   "cell_type": "code",
   "execution_count": 20,
   "id": "5ff48a5c-3ad3-4b89-8ab0-be8690d0a5d9",
   "metadata": {},
   "outputs": [
    {
     "name": "stdout",
     "output_type": "stream",
     "text": [
      "P(X > 60) ≈ 0.00000000000000000000\n"
     ]
    }
   ],
   "source": [
    "# b) ¿Cuál es la probabilidad de que un archivo de tamaño grande dure más de una hora?\n",
    "tiempo_limite = 60\n",
    "prob_mayor_60 = 1 - stats.gamma.cdf(tiempo_limite, a=alpha, scale=beta)\n",
    "\n",
    "print(f\"P(X > 60) ≈ {prob_mayor_60:.20f}\")"
   ]
  },
  {
   "cell_type": "markdown",
   "id": "691fc14b",
   "metadata": {},
   "source": [
    "### Problema 4"
   ]
  },
  {
   "cell_type": "markdown",
   "id": "a7cd27a2",
   "metadata": {},
   "source": [
    "Un bus llega a una parada específica en intervalos de 15 minutos, comenzando a las 7:00 am. Es decir llegando a las 7, 7:15, 7:30, 7:45 y así sucesivamente. Si un pasajero llega a la parada en un momento que es uniformemente distribuido entre 7 y 7:30. Encuentre la probabilidad que el espere: a) menos de 5 minutos por el bus. b) más de 10 minutos por bus."
   ]
  },
  {
   "cell_type": "code",
   "execution_count": null,
   "id": "89b18c63",
   "metadata": {},
   "outputs": [
    {
     "name": "stdout",
     "output_type": "stream",
     "text": [
      "Probabilidad de esperar menos de 5 minutos: 0.3317\n",
      "Probabilidad de esperar más de 10 minutos: 0.3337\n"
     ]
    }
   ],
   "source": [
    "BUS_INTERVAL = 15  # minutos\n",
    "SIM_TIME = 30      # minutos, de 7:00 a 7:30\n",
    "N = 100000         # número de pasajeros simulados\n",
    "\n",
    "less_than_5 = 0\n",
    "more_than_10 = 0\n",
    "wait_times = []\n",
    "\n",
    "def simulate_passenger(env):\n",
    "    global less_than_5, more_than_10\n",
    "    yield env.timeout(0)  \n",
    "    arrival = random.uniform(0, SIM_TIME)\n",
    "    next_bus = BUS_INTERVAL * (int(arrival // BUS_INTERVAL) + 1)\n",
    "    wait_time = 0 if arrival % BUS_INTERVAL == 0 else next_bus - arrival\n",
    "    wait_times.append(wait_time)\n",
    "    if wait_time < 5:\n",
    "        less_than_5 += 1\n",
    "    if wait_time > 10:\n",
    "        more_than_10 += 1\n",
    "\n",
    "for _ in range(N):\n",
    "    env = simpy.Environment()\n",
    "    env.process(simulate_passenger(env))\n",
    "    env.run()\n",
    "\n",
    "# Calcular probabilidades\n",
    "prob_less_than_5 = less_than_5 / N\n",
    "prob_more_than_10 = more_than_10 / N\n",
    "\n",
    "print(f\"a) Probabilidad de esperar menos de 5 minutos: {prob_less_than_5:.4f}\")\n",
    "print(f\"b) Probabilidad de esperar más de 10 minutos: {prob_more_than_10:.4f}\")"
   ]
  },
  {
   "cell_type": "markdown",
   "id": "bda26294",
   "metadata": {},
   "source": [
    "### Problema 5"
   ]
  },
  {
   "cell_type": "markdown",
   "id": "6171325e",
   "metadata": {},
   "source": [
    "Sea $X$ La cantidad de radiación que puede absorver un individuo antes de que sobrevenga su muerte. Suponga que $X$ es normal, con media de 500 roetgens y desviación estándar de 150 roetgens. ¿Por arriba de cuál dosis apenas sobrevive el 5% de los individuos expuestos?"
   ]
  },
  {
   "cell_type": "code",
   "execution_count": null,
   "id": "dd32db54",
   "metadata": {},
   "outputs": [],
   "source": []
  },
  {
   "cell_type": "code",
   "execution_count": null,
   "id": "503a243d",
   "metadata": {},
   "outputs": [],
   "source": []
  }
 ],
 "metadata": {
  "kernelspec": {
   "display_name": "Python 3",
   "language": "python",
   "name": "python3"
  },
  "language_info": {
   "codemirror_mode": {
    "name": "ipython",
    "version": 3
   },
   "file_extension": ".py",
   "mimetype": "text/x-python",
   "name": "python",
   "nbconvert_exporter": "python",
   "pygments_lexer": "ipython3",
   "version": "3.11.1"
  }
 },
 "nbformat": 4,
 "nbformat_minor": 5
}
